{
 "cells": [
  {
   "cell_type": "code",
   "execution_count": 38,
   "metadata": {},
   "outputs": [],
   "source": [
    "# import pickle\n",
    "from my_util import *\n",
    "from sklearn.feature_extraction.text import CountVectorizer\n",
    "from sklearn.ensemble import RandomForestClassifier\n",
    "from sklearn.preprocessing import MinMaxScaler\n",
    "\n",
    "import numpy as np\n",
    "import pandas as pd\n",
    "import time, pickle, math, warnings, os, operator\n",
    "from imblearn.over_sampling import SMOTE\n",
    "warnings.filterwarnings('ignore')\n",
    "\n",
    "from lime.lime_tabular import LimeTabularExplainer\n",
    "import dill\n",
    "\n",
    "import matplotlib.pyplot as plt\n",
    "\n",
    "data_path = './data/'\n",
    "model_path = './final_model/'\n",
    "\n",
    "projects = ['openstack','qt']\n",
    "\n",
    "remove_python_common_tokens = True\n",
    "\n",
    "    \n",
    "top_k_tokens = np.arange(10,201,10)\n",
    "agg_methods = ['avg','median','sum']\n",
    "max_str_len_list = 100\n",
    "\n",
    "# since we don't want to use commit metrics in LIME\n",
    "commit_metrics = ['la','la','ld', 'ld', 'nf','nd_y', 'nd', 'ns','ent', 'ent', 'nrev', 'rtime', 'hcmt', 'self', 'ndev',\n",
    "                          'age', 'age', 'nuc', 'app_y', 'aexp', 'rexp', 'arexp', 'rrexp', 'asexp', 'rsexp', 'asawr', 'rsawr']\n",
    "\n",
    "line_score_df_col_name = ['total_tokens', 'line_level_label'] + ['token'+str(i) for i in range(1,max_str_len_list+1)] + [agg+'-top-'+str(k)+'-tokens' for agg in agg_methods for k in top_k_tokens] + [agg+'-all-tokens' for agg in agg_methods]\n",
    "    \n",
    "create_path_if_not_exist('./text_metric_line_eval_result/')\n",
    "create_path_if_not_exist('./final_model/')\n",
    "create_path_if_not_exist('./data/line-level_ranking_result/')"
   ]
  },
  {
   "cell_type": "markdown",
   "metadata": {},
   "source": [
    "## Steps for line-level\n",
    "\n",
    "1. load prediction result, line-level dataset, train/test data\n",
    "2. load RF model\n",
    "3. resampling dataset (like in commit-level experiment)\n",
    "4. train LIME model\n",
    "5. get correctly predicted result\n",
    "6. for each correctly predicted result\n",
    "    - get explanation from LIME\n",
    "    - get line score (mean, median, sum)\n",
    "    - put commit_id, code line, line score, label to dataframe\n",
    "7. combine result in 6. as a single dataframe\n",
    "\n",
    "note: no need to use differential evolution algorithm to find the best k_neighbors since it is known from training phase"
   ]
  },
  {
   "cell_type": "markdown",
   "metadata": {},
   "source": [
    "## Get line score from LIME"
   ]
  },
  {
   "cell_type": "code",
   "execution_count": 8,
   "metadata": {
    "code_folding": []
   },
   "outputs": [],
   "source": [
    "def get_combined_features(code_commit, commit_id, label, metrics_df, count_vect, mode = 'train'):\n",
    "    \n",
    "    if mode not in ['train','test']:\n",
    "        print('wrong mode')\n",
    "        return\n",
    "    \n",
    "    code_df = pd.DataFrame()\n",
    "    code_df['commit_id'] = commit_id\n",
    "    code_df['code'] = code_commit\n",
    "    code_df['label'] = label\n",
    "    \n",
    "    code_df = code_df.sort_values(by='commit_id')\n",
    "    \n",
    "    metrics_df = metrics_df.sort_values(by='commit_id')\n",
    "    \n",
    "    code_change_arr = count_vect.transform(code_df['code']).astype(np.int16).toarray()\n",
    "    \n",
    "    if mode == 'train':\n",
    "        metrics_df = metrics_df.drop('commit_id',axis=1)\n",
    "        metrics_df_arr = metrics_df.to_numpy(dtype=np.float32)\n",
    "        final_features = np.concatenate((code_change_arr,metrics_df_arr),axis=1)\n",
    "        col_names = list(count_vect.get_feature_names())+list(metrics_df.columns)\n",
    "        return final_features, col_names, list(code_df['label'])\n",
    "    elif mode == 'test':\n",
    "        code_features = pd.DataFrame(code_change_arr, columns=count_vect.get_feature_names())\n",
    "        code_features['commit_id'] = list(code_df['commit_id'])\n",
    "\n",
    "        metrics_df = metrics_df.set_index('commit_id')\n",
    "        code_features = code_features.set_index('commit_id')\n",
    "        final_features = pd.concat([code_features, metrics_df],axis=1)\n",
    "        \n",
    "        return final_features, list(code_df['commit_id']), list(code_df['label'])\n",
    "\n",
    "def get_LIME_explainer(proj_name, train_feature, feature_names):\n",
    "    LIME_explainer_path = './final_model/'+proj_name+'_LIME_RF_DE_SMOTE_min_df_3.pkl'\n",
    "    class_names = ['not defective', 'defective'] # this is fine...\n",
    "    if not os.path.exists(LIME_explainer_path):\n",
    "        start = time.time()\n",
    "        # get features in train_df here\n",
    "        print('start training LIME explainer')\n",
    "\n",
    "        explainer = LimeTabularExplainer(train_feature, \n",
    "                                         feature_names=feature_names, \n",
    "                                         class_names=class_names, discretize_continuous=False, random_state=42)\n",
    "        dill.dump(explainer, open(LIME_explainer_path, 'wb'))\n",
    "        print('finish training LIME explainer in',time.time()-start, 'secs')\n",
    "\n",
    "    else:\n",
    "        explainer = dill.load(open(LIME_explainer_path, 'rb'))\n",
    "    \n",
    "    return explainer\n",
    "\n",
    "def eval_with_LIME(proj_name, clf, explainer, test_features):\n",
    "    \n",
    "    def preprocess_feature_from_explainer(exp):\n",
    "        features_val = exp.as_list(label=1)\n",
    "        new_features_val = [tup for tup in features_val if float(tup[1]) > 0] # only score > 0 that indicates buggy token\n",
    "\n",
    "        feature_dict = {re.sub('\\s.*','',val[0]):val[1] for val in new_features_val}\n",
    "\n",
    "        sorted_feature_dict = sorted(feature_dict.items(), key=operator.itemgetter(1), reverse=True)\n",
    "\n",
    "        sorted_feature_dict = {tup[0]:tup[1] for tup in sorted_feature_dict if tup[0] not in commit_metrics}\n",
    "        tokens_list = list(sorted_feature_dict.keys())\n",
    "\n",
    "        return sorted_feature_dict, tokens_list\n",
    "    \n",
    "    def add_agg_scr_to_list(line_stuff, scr_list):\n",
    "        if len(scr_list) < 1:\n",
    "            scr_list.append(0)\n",
    "\n",
    "        line_stuff.append(np.mean(scr_list))\n",
    "        line_stuff.append(np.median(scr_list))\n",
    "        line_stuff.append(np.sum(scr_list))\n",
    "\n",
    "    all_buggy_line_result_df = []  \n",
    "    \n",
    "    prediction_result = pd.read_csv(data_path+proj_name+'_RF_DE_SMOTE_min_df_3_prediction_result.csv')\n",
    "    line_level_df = pd.read_csv(data_path+proj_name+'_complete_buggy_line_level.csv',sep='\\t').dropna()\n",
    "\n",
    "    correctly_predicted_commit = list(prediction_result[(prediction_result['pred']==1) &\n",
    "                                                (prediction_result['actual']==1)]['test_commit'])\n",
    "\n",
    "    for commit in correctly_predicted_commit:\n",
    "        code_change_from_line_level_df = list(line_level_df[line_level_df['commit_hash']==commit]['code_change_remove_common_tokens'])\n",
    "        line_level_label = list(line_level_df[line_level_df['commit_hash']==commit]['is_buggy_line'])\n",
    "\n",
    "        line_score_df = pd.DataFrame(columns = line_score_df_col_name)\n",
    "        line_score_df['line_num'] = np.arange(0,len(code_change_from_line_level_df))\n",
    "        line_score_df = line_score_df.set_index('line_num')\n",
    "\n",
    "        exp = explainer.explain_instance(test_features.loc[commit], clf.predict_proba, \n",
    "                                         num_features=len(test_features.columns), top_labels=1,\n",
    "                                         num_samples=5000)\n",
    "\n",
    "        sorted_feature_score_dict, tokens_list = preprocess_feature_from_explainer(exp)\n",
    "\n",
    "        for line_num, line in enumerate(code_change_from_line_level_df): # for each line (sadly this loop is needed...)\n",
    "            line_stuff = []\n",
    "            line_score_list = np.zeros(100) # this is needed to store result in dataframe\n",
    "            token_list = line.split()[:100]\n",
    "            line_stuff.append(line)\n",
    "            line_stuff.append(len(token_list))\n",
    "\n",
    "            for tok_idx, tok in enumerate(token_list):\n",
    "                score = sorted_feature_score_dict.get(tok,0)\n",
    "                line_score_list[tok_idx] = score\n",
    "                \n",
    "            # calculate top-k tokens first then followed by all tokens\n",
    "\n",
    "            line_stuff = line_stuff + list(line_score_list)\n",
    "\n",
    "            for k in top_k_tokens: # for each k in top-k tokens\n",
    "                top_tokens = tokens_list[0:k-1]\n",
    "                top_k_scr_list = []\n",
    "\n",
    "                if len(token_list) < 1:\n",
    "                    top_k_scr_list.append(0)\n",
    "                else:\n",
    "                    for tok in token_list:\n",
    "                        score = 0\n",
    "                        if tok in top_tokens:\n",
    "                            score = sorted_feature_score_dict.get(tok,0)\n",
    "                        top_k_scr_list.append(score)\n",
    "\n",
    "                add_agg_scr_to_list(line_stuff, top_k_scr_list)\n",
    "\n",
    "            add_agg_scr_to_list(line_stuff, list(line_score_list[:len(token_list)]))\n",
    "            line_score_df.loc[line_num] = line_stuff\n",
    "        \n",
    "        line_score_df['commit_id'] = [commit]*len(line_level_label)\n",
    "        line_score_df['line_level_label'] = line_level_label\n",
    "\n",
    "        all_buggy_line_result_df.append(line_score_df)\n",
    "        \n",
    "        del exp, sorted_feature_score_dict, tokens_list, line_score_df\n",
    "        \n",
    "    return all_buggy_line_result_df\n",
    "\n",
    "def eval_line_level(proj_name, best_k_neighbor):\n",
    "    # load model here\n",
    "    clf = pickle.load(open(model_path+proj_name+'_RF_DE_SMOTE_min_df_3.pkl','rb'))\n",
    "\n",
    "    train_code, train_commit, train_label = prepare_data(proj_name, mode='train',\n",
    "                                                                  remove_python_common_tokens=remove_python_common_tokens)\n",
    "    test_code, test_commit, test_label = prepare_data(proj_name, mode='test',\n",
    "                                                              remove_python_common_tokens=remove_python_common_tokens)\n",
    "\n",
    "    commit_metrics = load_change_metrics_df(proj_name)\n",
    "    #     print(commit_metrics.head())\n",
    "    train_commit_metrics = commit_metrics[commit_metrics['commit_id'].isin(train_commit)]\n",
    "    test_commit_metrics = commit_metrics[commit_metrics['commit_id'].isin(test_commit)]\n",
    "\n",
    "    count_vect = CountVectorizer(min_df=3, ngram_range=(1,1))\n",
    "    count_vect.fit(train_code)\n",
    "\n",
    "    # use train_feature to train LIME\n",
    "\n",
    "    train_feature, col_names, new_train_label = get_combined_features(train_code, train_commit, train_label, train_commit_metrics,count_vect)\n",
    "    test_feature, test_commit_id, new_test_label = get_combined_features(test_code, test_commit, test_label, test_commit_metrics,count_vect, mode = 'test')\n",
    "\n",
    "    percent_80 = int(len(new_train_label)*0.8)\n",
    "    \n",
    "    final_train_feature = train_feature[:percent_80]\n",
    "    final_new_train_label = new_train_label[:percent_80]\n",
    "    \n",
    "    print('load data of',proj_name, 'finish') # at least we can load dataframe...\n",
    "    \n",
    "    smote = SMOTE(k_neighbors = best_k_neighbor, random_state=42, n_jobs=-1)\n",
    "\n",
    "    train_feature_res, new_train_label_res = smote.fit_resample(final_train_feature, final_new_train_label)\n",
    "    \n",
    "    print('resample data complete')\n",
    "\n",
    "    explainer = get_LIME_explainer(proj_name, train_feature_res, col_names)\n",
    "    print('load LIME explainer complete')\n",
    "    \n",
    "    # to save RAM to prevent out of memory error\n",
    "    del smote, train_feature_res, new_train_label_res, train_code, train_commit, train_label, test_code, test_commit, test_label\n",
    "    del commit_metrics, train_commit_metrics, test_commit_metrics, count_vect, final_train_feature, final_new_train_label\n",
    "    \n",
    "    line_level_result = eval_with_LIME(proj_name, clf, explainer, test_feature)\n",
    "    \n",
    "    print('eval line level finish')\n",
    "    return line_level_result\n",
    "    \n",
    "    \n"
   ]
  },
  {
   "cell_type": "code",
   "execution_count": 11,
   "metadata": {
    "scrolled": true
   },
   "outputs": [
    {
     "name": "stdout",
     "output_type": "stream",
     "text": [
      "load data of openstack finish\n",
      "resample data complete\n",
      "load LIME explainer complete\n",
      "eval line level finish\n"
     ]
    }
   ],
   "source": [
    "openstack_line_level = eval_line_level('openstack',9)"
   ]
  },
  {
   "cell_type": "code",
   "execution_count": 2,
   "metadata": {},
   "outputs": [
    {
     "ename": "NameError",
     "evalue": "name 'pd' is not defined",
     "output_type": "error",
     "traceback": [
      "\u001b[0;31m---------------------------------------------------------------------------\u001b[0m",
      "\u001b[0;31mNameError\u001b[0m                                 Traceback (most recent call last)",
      "\u001b[0;32m<ipython-input-2-d99929655f2a>\u001b[0m in \u001b[0;36m<module>\u001b[0;34m\u001b[0m\n\u001b[0;32m----> 1\u001b[0;31m \u001b[0mpd\u001b[0m\u001b[0;34m.\u001b[0m\u001b[0mconcat\u001b[0m\u001b[0;34m(\u001b[0m\u001b[0mopenstack_line_level\u001b[0m\u001b[0;34m)\u001b[0m\u001b[0;34m.\u001b[0m\u001b[0mto_csv\u001b[0m\u001b[0;34m(\u001b[0m\u001b[0;34m'./data/openstack_line_level_result_min_df_3_300_trees.csv'\u001b[0m\u001b[0;34m,\u001b[0m\u001b[0mindex\u001b[0m\u001b[0;34m=\u001b[0m\u001b[0;32mFalse\u001b[0m\u001b[0;34m)\u001b[0m\u001b[0;34m\u001b[0m\u001b[0;34m\u001b[0m\u001b[0m\n\u001b[0m",
      "\u001b[0;31mNameError\u001b[0m: name 'pd' is not defined"
     ]
    }
   ],
   "source": [
    "pd.concat(openstack_line_level).to_csv('./data/openstack_line_level_result_min_df_3_300_trees.csv',index=False)"
   ]
  },
  {
   "cell_type": "code",
   "execution_count": 13,
   "metadata": {},
   "outputs": [
    {
     "name": "stdout",
     "output_type": "stream",
     "text": [
      "load data of qt finish\n",
      "resample data complete\n",
      "start training LIME explainer\n",
      "finish training LIME explainer in 11.610746383666992 secs\n",
      "load LIME explainer complete\n",
      "eval line level finish\n"
     ]
    }
   ],
   "source": [
    "qt_line_level = eval_line_level('qt',14) "
   ]
  },
  {
   "cell_type": "code",
   "execution_count": 14,
   "metadata": {},
   "outputs": [],
   "source": [
    "pd.concat(qt_line_level).to_csv('./data/qt_line_level_result_min_df_3_300_trees.csv',index=False)"
   ]
  },
  {
   "cell_type": "code",
   "execution_count": null,
   "metadata": {},
   "outputs": [],
   "source": []
  },
  {
   "cell_type": "markdown",
   "metadata": {},
   "source": [
    "## Defective line ranking evaluation"
   ]
  },
  {
   "cell_type": "code",
   "execution_count": 15,
   "metadata": {},
   "outputs": [],
   "source": [
    "score_cols = [agg+'-top-'+str(k)+'-tokens' for agg in agg_methods for k in top_k_tokens] + [agg+'-all-tokens' for agg in agg_methods]\n",
    "line_score_df_col_name = ['commit_id', 'total_tokens', 'line_level_label'] + score_cols"
   ]
  },
  {
   "cell_type": "code",
   "execution_count": 46,
   "metadata": {},
   "outputs": [],
   "source": [
    "def create_tmp_df(all_commits,agg_methods):\n",
    "    df = pd.DataFrame(columns = ['commit_id']+agg_methods)\n",
    "    df['commit_id'] = all_commits\n",
    "    df = df.set_index('commit_id')\n",
    "    return df\n",
    "\n",
    "def get_line_level_metrics(line_score,label):\n",
    "    scaler = MinMaxScaler()\n",
    "    line_score = scaler.fit_transform(np.array(line_score).reshape(-1, 1)) # cannot pass line_score as list T-T\n",
    "    pred = np.round(line_score)\n",
    "    \n",
    "    line_df = pd.DataFrame()\n",
    "    line_df['scr'] = [float(val) for val in list(line_score)]\n",
    "    line_df['label'] = label\n",
    "    line_df = line_df.sort_values(by='scr',ascending=False)\n",
    "    line_df['row'] = np.arange(1, len(line_df)+1)\n",
    "\n",
    "    real_buggy_lines = line_df[line_df['label'] == 1]\n",
    "    \n",
    "    top_10_acc = 0\n",
    "    \n",
    "    if len(real_buggy_lines) < 1:\n",
    "        IFA = len(line_df)\n",
    "        top_20_percent_LOC_recall = 0\n",
    "        effort_at_20_percent_LOC_recall = math.ceil(0.2*len(line_df))\n",
    "        \n",
    "    else:\n",
    "        IFA = line_df[line_df['label'] == 1].iloc[0]['row']-1\n",
    "        label_list = list(line_df['label'])\n",
    "\n",
    "        all_rows = len(label_list)\n",
    "        \n",
    "        # find top-10 accuracy\n",
    "        if all_rows < 10:\n",
    "            top_10_acc = np.sum(label_list[:all_rows])/len(label_list[:all_rows])\n",
    "        else:\n",
    "            top_10_acc = np.sum(label_list[:10])/len(label_list[:10])\n",
    "\n",
    "        # find recall\n",
    "        LOC_20_percent = line_df.head(int(0.2*len(line_df)))\n",
    "        buggy_line_num = LOC_20_percent[LOC_20_percent['label'] == 1]\n",
    "        top_20_percent_LOC_recall = float(len(buggy_line_num))/float(len(real_buggy_lines))\n",
    "\n",
    "        # find effort @20% LOC recall\n",
    "\n",
    "        buggy_20_percent = real_buggy_lines.head(math.ceil(0.2 * len(real_buggy_lines)))\n",
    "        buggy_20_percent_row_num = buggy_20_percent.iloc[-1]['row']\n",
    "        effort_at_20_percent_LOC_recall = int(buggy_20_percent_row_num) / float(len(line_df))\n",
    "\n",
    "    return IFA, top_20_percent_LOC_recall, effort_at_20_percent_LOC_recall, top_10_acc\n",
    "\n",
    "def eval_line_level_at_commit(cur_proj):\n",
    "    RF_result = pd.read_csv(data_path+cur_proj+'_line_level_result_min_df_3_300_trees.csv')\n",
    "    RF_result = RF_result[line_score_df_col_name]\n",
    "\n",
    "    all_commits = list(RF_result['commit_id'].unique())\n",
    "\n",
    "    IFA_df = create_tmp_df(all_commits, score_cols)\n",
    "    recall_20_percent_effort_df = create_tmp_df(all_commits, score_cols) \n",
    "    effort_20_percent_recall_df = create_tmp_df(all_commits, score_cols)\n",
    "    precision_df = create_tmp_df(all_commits, score_cols)\n",
    "    recall_df = create_tmp_df(all_commits, score_cols)\n",
    "    f1_df = create_tmp_df(all_commits, score_cols)\n",
    "    AUC_df = create_tmp_df(all_commits, score_cols)\n",
    "    top_10_acc_df = create_tmp_df(all_commits, score_cols)\n",
    "    MCC_df = create_tmp_df(all_commits, score_cols)\n",
    "    bal_ACC_df = create_tmp_df(all_commits, score_cols)\n",
    "\n",
    "    for commit in all_commits:\n",
    "        IFA_list = []\n",
    "        recall_20_percent_effort_list = []\n",
    "        effort_20_percent_recall_list = []\n",
    "        top_10_acc_list = []\n",
    "\n",
    "        cur_RF_result = RF_result[RF_result['commit_id']==commit]\n",
    "    \n",
    "        to_save_df = cur_RF_result[['commit_id',  'total_tokens',  'line_level_label',  'sum-all-tokens']]\n",
    "        \n",
    "        scaler = MinMaxScaler()\n",
    "        line_score = scaler.fit_transform(np.array(to_save_df['sum-all-tokens']).reshape(-1, 1))\n",
    "        to_save_df['line_score'] = line_score.reshape(-1,1) # to remove [...] in numpy array\n",
    "        to_save_df = to_save_df.drop(['sum-all-tokens','commit_id'], axis=1)\n",
    "        to_save_df = to_save_df.sort_values(by='line_score', ascending=False)\n",
    "        to_save_df['row'] = np.arange(1,len(to_save_df)+1)\n",
    "        to_save_df.to_csv('./data/line-level_ranking_result/'+cur_proj+'_'+str(commit)+'.csv',index=False)\n",
    "\n",
    "        line_label = list(cur_RF_result['line_level_label'])\n",
    "\n",
    "        for n, agg_method in enumerate(score_cols):\n",
    "            \n",
    "            RF_line_scr = list(cur_RF_result[agg_method])\n",
    "            \n",
    "            IFA, top_20_percent_LOC_recall, effort_at_20_percent_LOC_recall, top_10_acc = get_line_level_metrics(RF_line_scr, line_label)\n",
    "\n",
    "            IFA_list.append(IFA)\n",
    "            recall_20_percent_effort_list.append(top_20_percent_LOC_recall)\n",
    "            effort_20_percent_recall_list.append(effort_at_20_percent_LOC_recall)\n",
    "            top_10_acc_list.append(top_10_acc)\n",
    "\n",
    "        IFA_df.loc[commit] = IFA_list\n",
    "        recall_20_percent_effort_df.loc[commit] = recall_20_percent_effort_list\n",
    "        effort_20_percent_recall_df.loc[commit] = effort_20_percent_recall_list\n",
    "        top_10_acc_df.loc[commit] = top_10_acc_list\n",
    "\n",
    "    # the results are then used to make boxplot\n",
    "    IFA_df.to_csv('./text_metric_line_eval_result/'+cur_proj+'_IFA_min_df_3_300_trees.csv')\n",
    "    recall_20_percent_effort_df.to_csv('./text_metric_line_eval_result/'+cur_proj+'_recall_20_percent_effort_min_df_3_300_trees.csv') \n",
    "    effort_20_percent_recall_df.to_csv('./text_metric_line_eval_result/'+cur_proj+'_effort_20_percent_recall_min_df_3_300_trees.csv')\n",
    "    top_10_acc_df.to_csv('./text_metric_line_eval_result/'+cur_proj+'_top_10_acc_min_df_3_300_trees.csv')\n",
    "    \n",
    "    print('finish', cur_proj)"
   ]
  },
  {
   "cell_type": "code",
   "execution_count": 47,
   "metadata": {},
   "outputs": [
    {
     "name": "stdout",
     "output_type": "stream",
     "text": [
      "finish openstack\n",
      "finish qt\n"
     ]
    }
   ],
   "source": [
    "eval_line_level_at_commit(projects[0])\n",
    "eval_line_level_at_commit(projects[1])"
   ]
  },
  {
   "cell_type": "code",
   "execution_count": 51,
   "metadata": {},
   "outputs": [],
   "source": [
    "def plot_result(cur_proj):\n",
    "    fig, axs = plt.subplots(1,4, figsize=(20,5))\n",
    "    metrics = ['top_10_acc', 'recall_20_percent_effort','effort_20_percent_recall', 'IFA']\n",
    "    metrics_label = ['Top-10-ACC', 'Recall20%Effort', 'Effort@20%LOC', 'IFA']\n",
    "    \n",
    "    for i in range(0,4):\n",
    "        result_df = pd.read_csv('./text_metric_line_eval_result/'+cur_proj+'_'+metrics[i]+'_min_df_3_300_trees.csv')\n",
    "        result = result_df['sum-all-tokens']\n",
    "        axs[i].boxplot(result)\n",
    "        axs[i].set_xticklabels([metrics_label[i]])\n",
    "        axs[i].tick_params(axis='x', which='major', labelsize=15)\n",
    "        axs[i].tick_params(axis='y', which='major', labelsize=12)\n",
    "\n",
    "    plt.show()"
   ]
  },
  {
   "cell_type": "code",
   "execution_count": 1,
   "metadata": {},
   "outputs": [
    {
     "ename": "NameError",
     "evalue": "name 'plot_result' is not defined",
     "output_type": "error",
     "traceback": [
      "\u001b[0;31m---------------------------------------------------------------------------\u001b[0m",
      "\u001b[0;31mNameError\u001b[0m                                 Traceback (most recent call last)",
      "\u001b[0;32m<ipython-input-1-5ed2ff406eff>\u001b[0m in \u001b[0;36m<module>\u001b[0;34m\u001b[0m\n\u001b[1;32m      1\u001b[0m \u001b[0;31m# cur_proj = 'openstack'\u001b[0m\u001b[0;34m\u001b[0m\u001b[0;34m\u001b[0m\u001b[0;34m\u001b[0m\u001b[0m\n\u001b[0;32m----> 2\u001b[0;31m \u001b[0mplot_result\u001b[0m\u001b[0;34m(\u001b[0m\u001b[0;34m'openstack'\u001b[0m\u001b[0;34m)\u001b[0m\u001b[0;34m\u001b[0m\u001b[0;34m\u001b[0m\u001b[0m\n\u001b[0m",
      "\u001b[0;31mNameError\u001b[0m: name 'plot_result' is not defined"
     ]
    }
   ],
   "source": [
    "# cur_proj = 'openstack'\n",
    "plot_result('openstack')"
   ]
  },
  {
   "cell_type": "code",
   "execution_count": 53,
   "metadata": {},
   "outputs": [
    {
     "data": {
      "image/png": "[encoded data removed]",
      "text/plain": [
       "<Figure size 1440x360 with 4 Axes>"
      ]
     },
     "metadata": {
      "needs_background": "light"
     },
     "output_type": "display_data"
    }
   ],
   "source": [
    "plot_result('qt')"
   ]
  },
  {
   "cell_type": "code",
   "execution_count": null,
   "metadata": {},
   "outputs": [],
   "source": []
  }
 ],
 "metadata": {
  "kernelspec": {
   "display_name": "Python_Oat",
   "language": "python",
   "name": "env_oat"
  },
  "language_info": {
   "codemirror_mode": {
    "name": "ipython",
    "version": 3
   },
   "file_extension": ".py",
   "mimetype": "text/x-python",
   "name": "python",
   "nbconvert_exporter": "python",
   "pygments_lexer": "ipython3",
   "version": "3.8.5"
  },
  "varInspector": {
   "cols": {
    "lenName": 16,
    "lenType": 16,
    "lenVar": 40
   },
   "kernels_config": {
    "python": {
     "delete_cmd_postfix": "",
     "delete_cmd_prefix": "del ",
     "library": "var_list.py",
     "varRefreshCmd": "print(var_dic_list())"
    },
    "r": {
     "delete_cmd_postfix": ") ",
     "delete_cmd_prefix": "rm(",
     "library": "var_list.r",
     "varRefreshCmd": "cat(var_dic_list()) "
    }
   },
   "types_to_exclude": [
    "module",
    "function",
    "builtin_function_or_method",
    "instance",
    "_Feature"
   ],
   "window_display": false
  }
 },
 "nbformat": 4,
 "nbformat_minor": 4
}
